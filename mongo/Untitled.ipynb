{
 "cells": [
  {
   "cell_type": "code",
   "execution_count": 1,
   "id": "25eed8a8",
   "metadata": {},
   "outputs": [],
   "source": [
    "from pymongo import MongoClient\n",
    "import pandas as pd\n",
    "\n",
    "\n",
    "class MongoRestaurant:\n",
    "    def __init__(self, uri: str, db_name: str):\n",
    "        self.client = MongoClient(uri)\n",
    "        self.db = self.client[db_name]\n",
    "\n",
    "    def upload(self, data_json_name, collection_name):\n",
    "        df = pd.read_json(data_json_name)\n",
    "        collection = self.db[collection_name]\n",
    "        collection.insert_many(df.to_dict('records'))\n",
    "\n",
    "\n",
    "if __name__ == '__main__':\n",
    "    mongo = MongoRestaurant('mongodb://localhost:30001', 'restaurant_db')\n",
    "\n",
    "    mongo.upload('clients.json', 'clients')\n",
    "    mongo.upload('orders.json', 'orders')\n",
    "    mongo.upload('restaurants.json', 'restaurants')\n"
   ]
  },
  {
   "cell_type": "code",
   "execution_count": null,
   "id": "213bbabd",
   "metadata": {},
   "outputs": [],
   "source": []
  }
 ],
 "metadata": {
  "kernelspec": {
   "display_name": "Python 3 (ipykernel)",
   "language": "python",
   "name": "python3"
  },
  "language_info": {
   "codemirror_mode": {
    "name": "ipython",
    "version": 3
   },
   "file_extension": ".py",
   "mimetype": "text/x-python",
   "name": "python",
   "nbconvert_exporter": "python",
   "pygments_lexer": "ipython3",
   "version": "3.9.12"
  }
 },
 "nbformat": 4,
 "nbformat_minor": 5
}
